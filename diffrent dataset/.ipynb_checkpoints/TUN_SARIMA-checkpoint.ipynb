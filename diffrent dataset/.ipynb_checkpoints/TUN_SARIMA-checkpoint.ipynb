{
 "cells": [
  {
   "cell_type": "code",
   "execution_count": null,
   "metadata": {},
   "outputs": [],
   "source": [
    "import numpy as np \n",
    "import pandas as pd \n",
    "import matplotlib.pyplot as plt \n",
    "from pmdarima import auto_arima\n",
    "import warnings\n",
    "from sklearn.metrics import mean_squared_error\n",
    "from math import sqrt\n",
    "import statsmodels.api as sm\n",
    "from pandas.plotting import register_matplotlib_converters\n",
    "from statsmodels.graphics.tsaplots import plot_acf, plot_pacf\n",
    "from statsmodels.tsa.statespace.sarimax import SARIMAX\n",
    "register_matplotlib_converters()\n",
    "from time import time\n"
   ]
  },
  {
   "cell_type": "code",
   "execution_count": null,
   "metadata": {},
   "outputs": [],
   "source": [
    "TC= pd.read_csv(\"C:/Users/USER/OneDrive/Documents/Temperatures_depui1960/GlobalLandTemperaturesByCountry.csv\", encoding='ISO-8859-1')\n",
    "TC=TC.dropna()\n",
    "TC['dt'] = pd.to_datetime(TC['dt'])\n",
    "unique_count = TC['Country'].nunique()\n",
    "print(unique_count)\n",
    "TC_6013=TC.drop(TC[TC['dt'] < \"1960-01-01\" ].index)\n",
    "TC_6013.set_index(\"dt\", inplace=True)\n",
    "TUN_TC= TC_6013[TC_6013[\"Country\"]==\"Tunisia\"]\n",
    "print(TUN_TC.head())\n",
    "print(TUN_TC.info)"
   ]
  },
  {
   "cell_type": "code",
   "execution_count": null,
   "metadata": {},
   "outputs": [],
   "source": [
    "#STUDY THE DATA OF TUNISIA\n",
    "TUN_TC.loc[\"1961-01-01\":\"1965-01-01\"][\"AverageTemperature\"].plot(figsize=(12,5),linestyle='--')\n",
    "acf_plot = plot_acf(TUN_TC.loc[\"1961-01-01\":\"1965-01-01\"][\"AverageTemperature\"])\n",
    "pacf_plot = plot_pacf(TUN_TC.loc[\"1961-01-01\":\"1965-01-01\"][\"AverageTemperature\"])\n",
    "\n"
   ]
  },
  {
   "cell_type": "code",
   "execution_count": null,
   "metadata": {},
   "outputs": [],
   "source": [
    "model = auto_arima(TUN_TC[\"AverageTemperature\"], seasonal=True, m=12)\n",
    "\n",
    "# Get the order parameters of the best model\n",
    "order = model.order\n",
    "seasonal_order = model.seasonal_order\n",
    "train=TUN_TC.iloc[:-30]\n",
    "test=TUN_TC.iloc[-30:]\n"
   ]
  },
  {
   "cell_type": "code",
   "execution_count": null,
   "metadata": {},
   "outputs": [],
   "source": [
    "train['Country'] = train['Country'].astype(str)\n",
    "print(train['Country'].dtype)\n",
    "print(train['Country'].isnull().sum())\n",
    "print(order)\n",
    "print(seasonal_order)\n",
    "model = SARIMAX(train[\"AverageTemperature\"], order=order, seasonal_order=seasonal_order)\n",
    "model_fit = model.fit()\n",
    "model_fit.summary()\n",
    "start=len(train)\n",
    "end=len(train)+len(test)-1\n",
    "pred=model_fit.predict(start=start,end=end,typ='levels').rename('SARIMA Predictions')\n",
    "pred.index=TUN_TC.index[start:end+1]\n",
    "print(pred)\n",
    "pred.plot(legend=True)\n",
    "test['AverageTemperature'].plot(legend=True)\n",
    "test['AverageTemperature'].mean()\n",
    "rmse=sqrt(mean_squared_error(pred,test['AverageTemperature']))\n",
    "print(rmse)\n",
    "print(TUN_TC.info)\n"
   ]
  },
  {
   "cell_type": "code",
   "execution_count": 65,
   "metadata": {},
   "outputs": [
    {
     "name": "stderr",
     "output_type": "stream",
     "text": [
      "C:\\Users\\USER\\AppData\\Roaming\\Python\\Python311\\site-packages\\statsmodels\\tsa\\base\\tsa_model.py:473: ValueWarning: No frequency information was provided, so inferred frequency MS will be used.\n",
      "  self._init_dates(dates, freq)\n",
      "C:\\Users\\USER\\AppData\\Roaming\\Python\\Python311\\site-packages\\statsmodels\\tsa\\base\\tsa_model.py:473: ValueWarning: No frequency information was provided, so inferred frequency MS will be used.\n",
      "  self._init_dates(dates, freq)\n"
     ]
    },
    {
     "name": "stdout",
     "output_type": "stream",
     "text": [
      "DatetimeIndex(['2013-09-01', '2013-10-01', '2013-11-01', '2013-12-01',\n",
      "               '2014-01-01', '2014-02-01', '2014-03-01', '2014-04-01',\n",
      "               '2014-05-01', '2014-06-01',\n",
      "               ...\n",
      "               '2030-03-01', '2030-04-01', '2030-05-01', '2030-06-01',\n",
      "               '2030-07-01', '2030-08-01', '2030-09-01', '2030-10-01',\n",
      "               '2030-11-01', '2030-12-01'],\n",
      "              dtype='datetime64[ns]', length=208, freq='<DateOffset: months=1>')\n",
      "            AverageTemperature  AverageTemperatureUncertainty  Country\n",
      "2013-09-01           27.637784                       1.134354  Tunisia\n",
      "2013-10-01           22.662828                       1.134354  Tunisia\n",
      "2013-11-01           16.955117                       1.134354  Tunisia\n",
      "2013-12-01           12.459902                       1.134354  Tunisia\n",
      "2014-01-01           11.494901                       1.134354  Tunisia\n",
      "...                        ...                            ...      ...\n",
      "2030-08-01           32.341666                       1.134354  Tunisia\n",
      "2030-09-01           28.661032                       1.134354  Tunisia\n",
      "2030-10-01           23.406190                       1.134354  Tunisia\n",
      "2030-11-01           17.492656                       1.134354  Tunisia\n",
      "2030-12-01           12.806584                       1.134354  Tunisia\n",
      "\n",
      "[208 rows x 3 columns]\n",
      "            AverageTemperature  AverageTemperatureUncertainty  Country\n",
      "1960-01-01           10.787000                       0.579000  Tunisia\n",
      "1960-02-01           14.914000                       0.912000  Tunisia\n",
      "1960-03-01           16.294000                       0.163000  Tunisia\n",
      "1960-04-01           17.377000                       0.788000  Tunisia\n",
      "1960-05-01           23.370000                       0.651000  Tunisia\n",
      "...                        ...                            ...      ...\n",
      "2030-08-01           32.341666                       1.134354  Tunisia\n",
      "2030-09-01           28.661032                       1.134354  Tunisia\n",
      "2030-10-01           23.406190                       1.134354  Tunisia\n",
      "2030-11-01           17.492656                       1.134354  Tunisia\n",
      "2030-12-01           12.806584                       1.134354  Tunisia\n",
      "\n",
      "[852 rows x 3 columns]\n"
     ]
    },
    {
     "name": "stderr",
     "output_type": "stream",
     "text": [
      "C:\\Users\\USER\\AppData\\Roaming\\Python\\Python311\\site-packages\\statsmodels\\tsa\\statespace\\representation.py:374: FutureWarning: Unknown keyword arguments: dict_keys(['typ']).Passing unknown keyword arguments will raise a TypeError beginning in version 0.15.\n",
      "  warnings.warn(msg, FutureWarning)\n"
     ]
    }
   ],
   "source": [
    "#TO PREDICT FUTURE VALUES\n",
    "model2=SARIMAX(TUN_TC['AverageTemperature'],order=order, seasonal_order=seasonal_order, enforce_stationarity=False, enforce_invertibility=False)\n",
    "model2=model2.fit()\n",
    "TUN_TC.tail()\n",
    "index_future_dates=pd.date_range(start='2013-09-01',end='2030-12-01',freq=pd.DateOffset(months=1))\n",
    "print(index_future_dates)\n",
    "pred2=model2.predict(start=len(TUN_TC),end=len(TUN_TC)+len(index_future_dates)- 1,typ='levels').rename('AverageTemperature')\n",
    "pred2.index=index_future_dates\n",
    "pred2 = pred2.to_frame()\n",
    "#print(pred2)\n",
    "#plt.plot(pred2.index, pred2.values, label='ARIMA Predictions')\n",
    "pred2[\"AverageTemperatureUncertainty\"]=[rmse for _ in range(len(pred2))]\n",
    "pred2[\"Country\"]=[\"Tunisia\" for _ in range(len(pred2))]\n",
    "TC_6013 = pd.concat([TC_6013, pred2])\n",
    "print(pred2)\n",
    "print(TC_6013[TC_6013[\"Country\"]==\"Tunisia\"])\n",
    "#pred2.to_csv('C:/Users/USER/OneDrive/Documents/Temperatures_depui1960/pred2.csv', index=True)"
   ]
  }
 ],
 "metadata": {
  "kernelspec": {
   "display_name": "Python 3",
   "language": "python",
   "name": "python3"
  },
  "language_info": {
   "codemirror_mode": {
    "name": "ipython",
    "version": 3
   },
   "file_extension": ".py",
   "mimetype": "text/x-python",
   "name": "python",
   "nbconvert_exporter": "python",
   "pygments_lexer": "ipython3",
   "version": "3.11.3"
  }
 },
 "nbformat": 4,
 "nbformat_minor": 2
}
