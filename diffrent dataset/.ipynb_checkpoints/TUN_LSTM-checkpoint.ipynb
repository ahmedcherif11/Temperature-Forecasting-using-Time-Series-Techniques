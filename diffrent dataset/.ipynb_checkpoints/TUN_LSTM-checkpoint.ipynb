{
 "cells": [
  {
   "cell_type": "code",
   "execution_count": null,
   "metadata": {},
   "outputs": [],
   "source": [
    "import pandas as pd\n",
    "import numpy as np\n",
    "import matplotlib.pyplot as plt\n",
    "from statsmodels.tsa.seasonal import seasonal_decompose\n",
    "from sklearn.preprocessing import MinMaxScaler\n",
    "from keras.preprocessing.sequence import TimeseriesGenerator\n",
    "from keras.models import Sequential\n",
    "from keras.layers import Dense\n",
    "from keras.layers import LSTM\n",
    "from sklearn.metrics import mean_squared_error\n",
    "from math import sqrt\n",
    "from keras.callbacks import EarlyStopping"
   ]
  },
  {
   "cell_type": "code",
   "execution_count": null,
   "metadata": {},
   "outputs": [],
   "source": [
    "TC= pd.read_csv(\"C:/Users/USER/OneDrive/Documents/Temperatures_depui1960/GlobalLandTemperaturesByCountry.csv\", encoding='ISO-8859-1')\n",
    "TC=TC.dropna()\n",
    "TC['dt'] = pd.to_datetime(TC['dt'])\n",
    "unique_count = TC['Country'].nunique()\n",
    "print(unique_count)\n",
    "TC_6013=TC.drop(TC[TC['dt'] < \"1960-01-01\" ].index)\n",
    "TC_6013.set_index(\"dt\", inplace=True)\n",
    "TUN_TC= TC_6013[TC_6013[\"Country\"]==\"Tunisia\"]\n",
    "print(TUN_TC.head())\n"
   ]
  },
  {
   "cell_type": "code",
   "execution_count": null,
   "metadata": {},
   "outputs": [],
   "source": [
    "#STUDYING THE DATA OF TUNISIA \n",
    "TUN_TC[\"AverageTemperature\"].plot(figsize=(12,5))\n",
    "results = seasonal_decompose(TUN_TC['AverageTemperature'])\n",
    "results.plot()"
   ]
  },
  {
   "cell_type": "code",
   "execution_count": null,
   "metadata": {},
   "outputs": [],
   "source": [
    "#LSTM MODEL\n",
    "train=TUN_TC.iloc[:-30][[\"AverageTemperature\"]]\n",
    "test=TUN_TC.iloc[-30:][[\"AverageTemperature\"]]\n",
    "print(train)\n",
    "scaler = MinMaxScaler()\n",
    "scaler.fit(train)\n",
    "scaled_train = scaler.transform(train)\n",
    "scaled_test = scaler.transform(test)\n",
    "scaled_train[:10]\n",
    "n_input = 12\n",
    "n_features = 1\n",
    "generator = TimeseriesGenerator(scaled_train, scaled_train, length=n_input, batch_size=1)\n",
    "model = Sequential()\n",
    "model.add(LSTM(100, activation='relu', input_shape=(n_input, n_features)))\n",
    "model.add(Dense(1))\n",
    "model.compile(optimizer='adam', loss='mse')\n",
    "model.summary()\n",
    "early_stop = EarlyStopping(monitor='val_loss', patience=5, verbose=1)\n",
    "model.fit(generator,epochs=50,callbacks=[early_stop])\n",
    "\n"
   ]
  },
  {
   "cell_type": "code",
   "execution_count": null,
   "metadata": {},
   "outputs": [],
   "source": [
    "test_predictions = []\n",
    "\n",
    "first_eval_batch = scaled_train[-n_input:]\n",
    "current_batch = first_eval_batch.reshape((1, n_input, n_features))\n",
    "\n",
    "for i in range(len(test)):\n",
    "    \n",
    "    # get the prediction value for the first batch\n",
    "    current_pred = model.predict(current_batch)[0]\n",
    "    \n",
    "    # append the prediction into the array\n",
    "    test_predictions.append(current_pred) \n",
    "    \n",
    "    # use the prediction to update the batch and remove the first value\n",
    "    current_batch = np.append(current_batch[:,1:,:],[[current_pred]],axis=1)\n",
    "true_predictions = scaler.inverse_transform(test_predictions)\n",
    "test['Predictions'] = true_predictions\n",
    "test.plot(figsize=(14,5))\n",
    "rmse=sqrt(mean_squared_error(test['AverageTemperature'],test['AverageTemperature']))"
   ]
  }
 ],
 "metadata": {
  "kernelspec": {
   "display_name": "Python 3",
   "language": "python",
   "name": "python3"
  },
  "language_info": {
   "codemirror_mode": {
    "name": "ipython",
    "version": 3
   },
   "file_extension": ".py",
   "mimetype": "text/x-python",
   "name": "python",
   "nbconvert_exporter": "python",
   "pygments_lexer": "ipython3",
   "version": "3.11.3"
  }
 },
 "nbformat": 4,
 "nbformat_minor": 2
}
