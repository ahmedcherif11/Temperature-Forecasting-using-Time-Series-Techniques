{
 "cells": [
  {
   "cell_type": "code",
   "execution_count": 1,
   "id": "2e804cd4",
   "metadata": {},
   "outputs": [
    {
     "name": "stdout",
     "output_type": "stream",
     "text": [
      "Collecting prophet\n",
      "  Downloading prophet-1.1.4-py3-none-win_amd64.whl (12.9 MB)\n",
      "Collecting cmdstanpy>=1.0.4\n",
      "  Downloading cmdstanpy-1.1.0-py3-none-any.whl (83 kB)\n",
      "Collecting LunarCalendar>=0.0.9\n",
      "  Downloading LunarCalendar-0.0.9-py2.py3-none-any.whl (18 kB)\n",
      "Requirement already satisfied: python-dateutil>=2.8.0 in c:\\users\\ahmed\\anaconda3\\lib\\site-packages (from prophet) (2.8.2)\n",
      "Requirement already satisfied: numpy>=1.15.4 in c:\\users\\ahmed\\anaconda3\\lib\\site-packages (from prophet) (1.24.3)\n",
      "Requirement already satisfied: tqdm>=4.36.1 in c:\\users\\ahmed\\anaconda3\\lib\\site-packages (from prophet) (4.64.0)\n",
      "Requirement already satisfied: pandas>=1.0.4 in c:\\users\\ahmed\\anaconda3\\lib\\site-packages (from prophet) (1.4.2)\n",
      "Requirement already satisfied: matplotlib>=2.0.0 in c:\\users\\ahmed\\anaconda3\\lib\\site-packages (from prophet) (3.5.1)\n",
      "Collecting holidays>=0.25\n",
      "  Downloading holidays-0.29-py3-none-any.whl (695 kB)\n",
      "Collecting convertdate>=2.1.2\n",
      "  Using cached convertdate-2.4.0-py3-none-any.whl (47 kB)\n",
      "Collecting importlib-resources\n",
      "  Downloading importlib_resources-6.0.0-py3-none-any.whl (31 kB)\n",
      "Collecting pymeeus<=1,>=0.3.13\n",
      "  Downloading PyMeeus-0.5.12.tar.gz (5.8 MB)\n",
      "Requirement already satisfied: pytz in c:\\users\\ahmed\\anaconda3\\lib\\site-packages (from LunarCalendar>=0.0.9->prophet) (2023.3)\n",
      "Collecting ephem>=3.7.5.3\n",
      "  Downloading ephem-4.1.4-cp39-cp39-win_amd64.whl (1.4 MB)\n",
      "Requirement already satisfied: fonttools>=4.22.0 in c:\\users\\ahmed\\anaconda3\\lib\\site-packages (from matplotlib>=2.0.0->prophet) (4.25.0)\n",
      "Requirement already satisfied: cycler>=0.10 in c:\\users\\ahmed\\anaconda3\\lib\\site-packages (from matplotlib>=2.0.0->prophet) (0.11.0)\n",
      "Requirement already satisfied: kiwisolver>=1.0.1 in c:\\users\\ahmed\\anaconda3\\lib\\site-packages (from matplotlib>=2.0.0->prophet) (1.3.2)\n",
      "Requirement already satisfied: pillow>=6.2.0 in c:\\users\\ahmed\\anaconda3\\lib\\site-packages (from matplotlib>=2.0.0->prophet) (9.0.1)\n",
      "Requirement already satisfied: pyparsing>=2.2.1 in c:\\users\\ahmed\\anaconda3\\lib\\site-packages (from matplotlib>=2.0.0->prophet) (3.0.4)\n",
      "Requirement already satisfied: packaging>=20.0 in c:\\users\\ahmed\\anaconda3\\lib\\site-packages (from matplotlib>=2.0.0->prophet) (21.3)\n",
      "Requirement already satisfied: six>=1.5 in c:\\users\\ahmed\\anaconda3\\lib\\site-packages (from python-dateutil>=2.8.0->prophet) (1.16.0)\n",
      "Requirement already satisfied: colorama in c:\\users\\ahmed\\anaconda3\\lib\\site-packages (from tqdm>=4.36.1->prophet) (0.4.4)\n",
      "Requirement already satisfied: zipp>=3.1.0 in c:\\users\\ahmed\\anaconda3\\lib\\site-packages (from importlib-resources->prophet) (3.7.0)\n",
      "Building wheels for collected packages: pymeeus\n",
      "  Building wheel for pymeeus (setup.py): started\n",
      "  Building wheel for pymeeus (setup.py): finished with status 'done'\n",
      "  Created wheel for pymeeus: filename=PyMeeus-0.5.12-py3-none-any.whl size=4570 sha256=5ead904f89e8faed81a0135d50e5f84f0b69306182e521da63562c7d56a84375\n",
      "  Stored in directory: c:\\users\\ahmed\\appdata\\local\\pip\\cache\\wheels\\04\\1f\\e5\\8dd0c661cd8d252817655dc14a84f7ae045d6616594145aa81\n",
      "Successfully built pymeeus\n",
      "Installing collected packages: pymeeus, ephem, LunarCalendar, importlib-resources, holidays, convertdate, cmdstanpy, prophet\n",
      "Successfully installed LunarCalendar-0.0.9 cmdstanpy-1.1.0 convertdate-2.4.0 ephem-4.1.4 holidays-0.29 importlib-resources-6.0.0 prophet-1.1.4 pymeeus-0.5.12\n"
     ]
    }
   ],
   "source": [
    "!pip install prophet"
   ]
  },
  {
   "cell_type": "code",
   "execution_count": 2,
   "id": "faeeeb09",
   "metadata": {},
   "outputs": [
    {
     "name": "stderr",
     "output_type": "stream",
     "text": [
      "C:\\Users\\AHMED\\anaconda3\\lib\\site-packages\\scipy\\__init__.py:146: UserWarning: A NumPy version >=1.16.5 and <1.23.0 is required for this version of SciPy (detected version 1.24.3\n",
      "  warnings.warn(f\"A NumPy version >={np_minversion} and <{np_maxversion}\"\n"
     ]
    }
   ],
   "source": [
    "# Analysis Tools\n",
    "import numpy as np\n",
    "import pandas as pd\n",
    "from scipy import stats\n",
    "from scipy.stats import norm\n",
    "\n",
    "# Plotting Tools\n",
    "import matplotlib.pyplot as plt\n",
    "import seaborn as sns\n",
    "import plotly.express as px\n",
    "\n",
    "# Extra Plotting Tools Required for Bar Chart Race\n",
    "import matplotlib.ticker as ticker\n",
    "import matplotlib.animation as animation\n",
    "from IPython.display import HTML\n",
    "\n",
    "\n",
    "import datetime\n",
    "import calplot\n",
    " \n",
    "# Prophet model \n",
    "from prophet import Prophet\n",
    "from prophet.diagnostics import cross_validation\n",
    "from prophet.diagnostics import performance_metrics\n",
    "from prophet.plot import plot_plotly, plot_components_plotly, plot_cross_validation_metric\n",
    "from prophet.serialize import model_to_json, model_from_json\n",
    "\n",
    "\n",
    "\n",
    "\n",
    "# Plot Design Settings\n",
    "sns.set_style(\"darkgrid\", {\"axes.facecolor\": \"#eff2f5\", 'grid.color': '#c0ccd8', 'patch.edgecolor': '#B0B0B0', 'font.sans-serif': 'Verdana'})\n",
    "sns.set_palette('Blues_d')\n",
    "\n",
    "plt.rc('font', size=19)\n",
    "plt.rc('axes', titlesize=25)\n",
    "plt.rc('axes', labelsize=20)\n",
    "plt.rc('xtick', labelsize=17)\n",
    "plt.rc('ytick', labelsize=17)\n",
    "plt.rc('figure', titlesize=24)\n",
    "\n",
    "\n",
    "# Mute warnings\n",
    "import warnings\n",
    "warnings.filterwarnings('ignore')"
   ]
  },
  {
   "cell_type": "code",
   "execution_count": 3,
   "id": "c7e2d0ec",
   "metadata": {},
   "outputs": [
    {
     "data": {
      "text/plain": [
       "(2906327, 8)"
      ]
     },
     "execution_count": 3,
     "metadata": {},
     "output_type": "execute_result"
    }
   ],
   "source": [
    "data = pd.read_csv('city_temperature.csv')\n",
    "data.shape"
   ]
  },
  {
   "cell_type": "code",
   "execution_count": null,
   "id": "6a4a8134",
   "metadata": {},
   "outputs": [],
   "source": []
  },
  {
   "cell_type": "code",
   "execution_count": 4,
   "id": "13f81556",
   "metadata": {},
   "outputs": [
    {
     "data": {
      "text/html": [
       "<div>\n",
       "<style scoped>\n",
       "    .dataframe tbody tr th:only-of-type {\n",
       "        vertical-align: middle;\n",
       "    }\n",
       "\n",
       "    .dataframe tbody tr th {\n",
       "        vertical-align: top;\n",
       "    }\n",
       "\n",
       "    .dataframe thead th {\n",
       "        text-align: right;\n",
       "    }\n",
       "</style>\n",
       "<table border=\"1\" class=\"dataframe\">\n",
       "  <thead>\n",
       "    <tr style=\"text-align: right;\">\n",
       "      <th></th>\n",
       "      <th>Region</th>\n",
       "      <th>Country</th>\n",
       "      <th>State</th>\n",
       "      <th>City</th>\n",
       "      <th>Month</th>\n",
       "      <th>Day</th>\n",
       "      <th>Year</th>\n",
       "      <th>AvgTemperature</th>\n",
       "    </tr>\n",
       "  </thead>\n",
       "  <tbody>\n",
       "    <tr>\n",
       "      <th>0</th>\n",
       "      <td>Africa</td>\n",
       "      <td>Algeria</td>\n",
       "      <td>NaN</td>\n",
       "      <td>Algiers</td>\n",
       "      <td>1</td>\n",
       "      <td>1</td>\n",
       "      <td>1995</td>\n",
       "      <td>64.2</td>\n",
       "    </tr>\n",
       "    <tr>\n",
       "      <th>1</th>\n",
       "      <td>Africa</td>\n",
       "      <td>Algeria</td>\n",
       "      <td>NaN</td>\n",
       "      <td>Algiers</td>\n",
       "      <td>1</td>\n",
       "      <td>2</td>\n",
       "      <td>1995</td>\n",
       "      <td>49.4</td>\n",
       "    </tr>\n",
       "    <tr>\n",
       "      <th>2</th>\n",
       "      <td>Africa</td>\n",
       "      <td>Algeria</td>\n",
       "      <td>NaN</td>\n",
       "      <td>Algiers</td>\n",
       "      <td>1</td>\n",
       "      <td>3</td>\n",
       "      <td>1995</td>\n",
       "      <td>48.8</td>\n",
       "    </tr>\n",
       "    <tr>\n",
       "      <th>3</th>\n",
       "      <td>Africa</td>\n",
       "      <td>Algeria</td>\n",
       "      <td>NaN</td>\n",
       "      <td>Algiers</td>\n",
       "      <td>1</td>\n",
       "      <td>4</td>\n",
       "      <td>1995</td>\n",
       "      <td>46.4</td>\n",
       "    </tr>\n",
       "    <tr>\n",
       "      <th>4</th>\n",
       "      <td>Africa</td>\n",
       "      <td>Algeria</td>\n",
       "      <td>NaN</td>\n",
       "      <td>Algiers</td>\n",
       "      <td>1</td>\n",
       "      <td>5</td>\n",
       "      <td>1995</td>\n",
       "      <td>47.9</td>\n",
       "    </tr>\n",
       "    <tr>\n",
       "      <th>...</th>\n",
       "      <td>...</td>\n",
       "      <td>...</td>\n",
       "      <td>...</td>\n",
       "      <td>...</td>\n",
       "      <td>...</td>\n",
       "      <td>...</td>\n",
       "      <td>...</td>\n",
       "      <td>...</td>\n",
       "    </tr>\n",
       "    <tr>\n",
       "      <th>2906322</th>\n",
       "      <td>North America</td>\n",
       "      <td>US</td>\n",
       "      <td>Additional Territories</td>\n",
       "      <td>San Juan Puerto Rico</td>\n",
       "      <td>7</td>\n",
       "      <td>27</td>\n",
       "      <td>2013</td>\n",
       "      <td>82.4</td>\n",
       "    </tr>\n",
       "    <tr>\n",
       "      <th>2906323</th>\n",
       "      <td>North America</td>\n",
       "      <td>US</td>\n",
       "      <td>Additional Territories</td>\n",
       "      <td>San Juan Puerto Rico</td>\n",
       "      <td>7</td>\n",
       "      <td>28</td>\n",
       "      <td>2013</td>\n",
       "      <td>81.6</td>\n",
       "    </tr>\n",
       "    <tr>\n",
       "      <th>2906324</th>\n",
       "      <td>North America</td>\n",
       "      <td>US</td>\n",
       "      <td>Additional Territories</td>\n",
       "      <td>San Juan Puerto Rico</td>\n",
       "      <td>7</td>\n",
       "      <td>29</td>\n",
       "      <td>2013</td>\n",
       "      <td>84.2</td>\n",
       "    </tr>\n",
       "    <tr>\n",
       "      <th>2906325</th>\n",
       "      <td>North America</td>\n",
       "      <td>US</td>\n",
       "      <td>Additional Territories</td>\n",
       "      <td>San Juan Puerto Rico</td>\n",
       "      <td>7</td>\n",
       "      <td>30</td>\n",
       "      <td>2013</td>\n",
       "      <td>83.8</td>\n",
       "    </tr>\n",
       "    <tr>\n",
       "      <th>2906326</th>\n",
       "      <td>North America</td>\n",
       "      <td>US</td>\n",
       "      <td>Additional Territories</td>\n",
       "      <td>San Juan Puerto Rico</td>\n",
       "      <td>7</td>\n",
       "      <td>31</td>\n",
       "      <td>2013</td>\n",
       "      <td>83.6</td>\n",
       "    </tr>\n",
       "  </tbody>\n",
       "</table>\n",
       "<p>2906327 rows × 8 columns</p>\n",
       "</div>"
      ],
      "text/plain": [
       "                Region  Country                   State                  City  \\\n",
       "0               Africa  Algeria                     NaN               Algiers   \n",
       "1               Africa  Algeria                     NaN               Algiers   \n",
       "2               Africa  Algeria                     NaN               Algiers   \n",
       "3               Africa  Algeria                     NaN               Algiers   \n",
       "4               Africa  Algeria                     NaN               Algiers   \n",
       "...                ...      ...                     ...                   ...   \n",
       "2906322  North America       US  Additional Territories  San Juan Puerto Rico   \n",
       "2906323  North America       US  Additional Territories  San Juan Puerto Rico   \n",
       "2906324  North America       US  Additional Territories  San Juan Puerto Rico   \n",
       "2906325  North America       US  Additional Territories  San Juan Puerto Rico   \n",
       "2906326  North America       US  Additional Territories  San Juan Puerto Rico   \n",
       "\n",
       "         Month  Day  Year  AvgTemperature  \n",
       "0            1    1  1995            64.2  \n",
       "1            1    2  1995            49.4  \n",
       "2            1    3  1995            48.8  \n",
       "3            1    4  1995            46.4  \n",
       "4            1    5  1995            47.9  \n",
       "...        ...  ...   ...             ...  \n",
       "2906322      7   27  2013            82.4  \n",
       "2906323      7   28  2013            81.6  \n",
       "2906324      7   29  2013            84.2  \n",
       "2906325      7   30  2013            83.8  \n",
       "2906326      7   31  2013            83.6  \n",
       "\n",
       "[2906327 rows x 8 columns]"
      ]
     },
     "execution_count": 4,
     "metadata": {},
     "output_type": "execute_result"
    }
   ],
   "source": [
    "data\n"
   ]
  },
  {
   "cell_type": "code",
   "execution_count": 5,
   "id": "cada6637",
   "metadata": {},
   "outputs": [
    {
     "data": {
      "text/html": [
       "<div>\n",
       "<style scoped>\n",
       "    .dataframe tbody tr th:only-of-type {\n",
       "        vertical-align: middle;\n",
       "    }\n",
       "\n",
       "    .dataframe tbody tr th {\n",
       "        vertical-align: top;\n",
       "    }\n",
       "\n",
       "    .dataframe thead th {\n",
       "        text-align: right;\n",
       "    }\n",
       "</style>\n",
       "<table border=\"1\" class=\"dataframe\">\n",
       "  <thead>\n",
       "    <tr style=\"text-align: right;\">\n",
       "      <th></th>\n",
       "      <th>Region</th>\n",
       "      <th>Country</th>\n",
       "      <th>State</th>\n",
       "      <th>City</th>\n",
       "      <th>Month</th>\n",
       "      <th>Day</th>\n",
       "      <th>Year</th>\n",
       "      <th>AvgTemperature</th>\n",
       "    </tr>\n",
       "  </thead>\n",
       "  <tbody>\n",
       "    <tr>\n",
       "      <th>0</th>\n",
       "      <td>Africa</td>\n",
       "      <td>Algeria</td>\n",
       "      <td>NaN</td>\n",
       "      <td>Algiers</td>\n",
       "      <td>1</td>\n",
       "      <td>1</td>\n",
       "      <td>1995</td>\n",
       "      <td>64.2</td>\n",
       "    </tr>\n",
       "    <tr>\n",
       "      <th>1</th>\n",
       "      <td>Africa</td>\n",
       "      <td>Algeria</td>\n",
       "      <td>NaN</td>\n",
       "      <td>Algiers</td>\n",
       "      <td>1</td>\n",
       "      <td>2</td>\n",
       "      <td>1995</td>\n",
       "      <td>49.4</td>\n",
       "    </tr>\n",
       "    <tr>\n",
       "      <th>2</th>\n",
       "      <td>Africa</td>\n",
       "      <td>Algeria</td>\n",
       "      <td>NaN</td>\n",
       "      <td>Algiers</td>\n",
       "      <td>1</td>\n",
       "      <td>3</td>\n",
       "      <td>1995</td>\n",
       "      <td>48.8</td>\n",
       "    </tr>\n",
       "    <tr>\n",
       "      <th>3</th>\n",
       "      <td>Africa</td>\n",
       "      <td>Algeria</td>\n",
       "      <td>NaN</td>\n",
       "      <td>Algiers</td>\n",
       "      <td>1</td>\n",
       "      <td>4</td>\n",
       "      <td>1995</td>\n",
       "      <td>46.4</td>\n",
       "    </tr>\n",
       "    <tr>\n",
       "      <th>4</th>\n",
       "      <td>Africa</td>\n",
       "      <td>Algeria</td>\n",
       "      <td>NaN</td>\n",
       "      <td>Algiers</td>\n",
       "      <td>1</td>\n",
       "      <td>5</td>\n",
       "      <td>1995</td>\n",
       "      <td>47.9</td>\n",
       "    </tr>\n",
       "  </tbody>\n",
       "</table>\n",
       "</div>"
      ],
      "text/plain": [
       "   Region  Country State     City  Month  Day  Year  AvgTemperature\n",
       "0  Africa  Algeria   NaN  Algiers      1    1  1995            64.2\n",
       "1  Africa  Algeria   NaN  Algiers      1    2  1995            49.4\n",
       "2  Africa  Algeria   NaN  Algiers      1    3  1995            48.8\n",
       "3  Africa  Algeria   NaN  Algiers      1    4  1995            46.4\n",
       "4  Africa  Algeria   NaN  Algiers      1    5  1995            47.9"
      ]
     },
     "execution_count": 5,
     "metadata": {},
     "output_type": "execute_result"
    }
   ],
   "source": [
    "data.head()"
   ]
  },
  {
   "cell_type": "markdown",
   "id": "f15e177f",
   "metadata": {},
   "source": [
    "features dtypes :"
   ]
  },
  {
   "cell_type": "code",
   "execution_count": 6,
   "id": "a08dce2e",
   "metadata": {},
   "outputs": [
    {
     "name": "stdout",
     "output_type": "stream",
     "text": [
      "<class 'pandas.core.frame.DataFrame'>\n",
      "RangeIndex: 2906327 entries, 0 to 2906326\n",
      "Data columns (total 8 columns):\n",
      " #   Column          Dtype  \n",
      "---  ------          -----  \n",
      " 0   Region          object \n",
      " 1   Country         object \n",
      " 2   State           object \n",
      " 3   City            object \n",
      " 4   Month           int64  \n",
      " 5   Day             int64  \n",
      " 6   Year            int64  \n",
      " 7   AvgTemperature  float64\n",
      "dtypes: float64(1), int64(3), object(4)\n",
      "memory usage: 177.4+ MB\n"
     ]
    }
   ],
   "source": [
    "data.info()\n"
   ]
  },
  {
   "cell_type": "code",
   "execution_count": null,
   "id": "da6dee0c",
   "metadata": {},
   "outputs": [],
   "source": []
  },
  {
   "cell_type": "code",
   "execution_count": 7,
   "id": "85fe4698",
   "metadata": {},
   "outputs": [
    {
     "data": {
      "text/plain": [
       "count    2.906327e+06\n",
       "mean     5.600492e+01\n",
       "std      3.212359e+01\n",
       "min     -9.900000e+01\n",
       "25%      4.580000e+01\n",
       "50%      6.250000e+01\n",
       "75%      7.550000e+01\n",
       "max      1.100000e+02\n",
       "Name: AvgTemperature, dtype: float64"
      ]
     },
     "execution_count": 7,
     "metadata": {},
     "output_type": "execute_result"
    }
   ],
   "source": [
    "data['AvgTemperature'].describe()\n"
   ]
  },
  {
   "cell_type": "markdown",
   "id": "b11e5b0a",
   "metadata": {},
   "source": [
    "Features Unique Values :"
   ]
  },
  {
   "cell_type": "code",
   "execution_count": 8,
   "id": "4c3a31c7",
   "metadata": {},
   "outputs": [
    {
     "name": "stdout",
     "output_type": "stream",
     "text": [
      "Region :  7\n",
      "Country :  125\n",
      "State :  52\n",
      "City :  321\n",
      "Month :  12\n",
      "Day :  32\n",
      "Year :  28\n",
      "AvgTemperature :  1517\n"
     ]
    }
   ],
   "source": [
    "# Number of unique values in each variable\n",
    "for var in data:\n",
    "    print(var, ': ', data[var].nunique())"
   ]
  },
  {
   "cell_type": "markdown",
   "id": "c4697416",
   "metadata": {},
   "source": [
    "Missing Values :"
   ]
  },
  {
   "cell_type": "code",
   "execution_count": 9,
   "id": "943bd628",
   "metadata": {},
   "outputs": [
    {
     "name": "stdout",
     "output_type": "stream",
     "text": [
      "Region :  0\n",
      "Country :  0\n",
      "State :  1450990\n",
      "City :  0\n",
      "Month :  0\n",
      "Day :  0\n",
      "Year :  0\n",
      "AvgTemperature :  0\n"
     ]
    }
   ],
   "source": [
    "for var in data:\n",
    "    print(var, ': ', data[var].isnull().sum())"
   ]
  },
  {
   "cell_type": "code",
   "execution_count": 10,
   "id": "46f43e8f",
   "metadata": {},
   "outputs": [],
   "source": [
    "data = data.drop(['State'], axis=1)"
   ]
  },
  {
   "cell_type": "markdown",
   "id": "5a0dcf38",
   "metadata": {},
   "source": [
    "Duplicates :"
   ]
  },
  {
   "cell_type": "code",
   "execution_count": 11,
   "id": "3015c83b",
   "metadata": {},
   "outputs": [
    {
     "name": "stdout",
     "output_type": "stream",
     "text": [
      "Number of Duplicates: 20903\n"
     ]
    }
   ],
   "source": [
    "print('Number of Duplicates: {}'.format(len(data[data.duplicated()])))\n"
   ]
  },
  {
   "cell_type": "code",
   "execution_count": 12,
   "id": "59d9d8d2",
   "metadata": {},
   "outputs": [],
   "source": [
    "data = data.drop_duplicates()\n",
    "\n"
   ]
  },
  {
   "cell_type": "markdown",
   "id": "7e8b7206",
   "metadata": {},
   "source": [
    "Number of 'AvgTemperature' values for each year :"
   ]
  },
  {
   "cell_type": "code",
   "execution_count": 13,
   "id": "9a5d4e27",
   "metadata": {
    "scrolled": false
   },
   "outputs": [
    {
     "data": {
      "text/plain": [
       "Year\n",
       "200         60\n",
       "201        235\n",
       "1995    117880\n",
       "1996    118210\n",
       "1997    117921\n",
       "1998    118334\n",
       "1999    118616\n",
       "2000    118946\n",
       "2001    118618\n",
       "2002    118601\n",
       "2003    118405\n",
       "2004    117910\n",
       "2005    117158\n",
       "2006    116910\n",
       "2007    114677\n",
       "2008    113818\n",
       "2009    113508\n",
       "2010    114526\n",
       "2011    112308\n",
       "2012    111256\n",
       "2013    110284\n",
       "2014    108284\n",
       "2015    106763\n",
       "2016    106499\n",
       "2017    106209\n",
       "2018    105657\n",
       "2019    105290\n",
       "2020     38541\n",
       "Name: AvgTemperature, dtype: int64"
      ]
     },
     "execution_count": 13,
     "metadata": {},
     "output_type": "execute_result"
    }
   ],
   "source": [
    "data.groupby('Year')['AvgTemperature'].count()\n"
   ]
  },
  {
   "cell_type": "code",
   "execution_count": 14,
   "id": "82656764",
   "metadata": {},
   "outputs": [],
   "source": [
    "data = data[data['Year']>1994]\n",
    "data = data[data['Year']<2020]\n"
   ]
  },
  {
   "cell_type": "markdown",
   "id": "5296013c",
   "metadata": {},
   "source": [
    "Range of Days :"
   ]
  },
  {
   "cell_type": "code",
   "execution_count": 15,
   "id": "a98790d6",
   "metadata": {},
   "outputs": [
    {
     "name": "stdout",
     "output_type": "stream",
     "text": [
      "Day Range Min to Max: \n",
      "min     0\n",
      "max    31\n",
      "Name: Day, dtype: int64\n"
     ]
    }
   ],
   "source": [
    "print('Day Range Min to Max: \\n{}'.format(data['Day'].agg([min , max])))\n"
   ]
  },
  {
   "cell_type": "code",
   "execution_count": 16,
   "id": "b258b21e",
   "metadata": {},
   "outputs": [
    {
     "name": "stdout",
     "output_type": "stream",
     "text": [
      "1st Day: \n",
      "min    1\n",
      "Name: Day, dtype: int64\n"
     ]
    }
   ],
   "source": [
    "data = data[data['Day']>0]\n",
    "print('1st Day: \\n{}'.format(data['Day'].agg([min]))) "
   ]
  },
  {
   "cell_type": "markdown",
   "id": "c9955444",
   "metadata": {},
   "source": [
    "Dropping all incomplete years :"
   ]
  },
  {
   "cell_type": "code",
   "execution_count": 22,
   "id": "b75e25a1",
   "metadata": {},
   "outputs": [],
   "source": []
  },
  {
   "cell_type": "code",
   "execution_count": null,
   "id": "9233c1db",
   "metadata": {},
   "outputs": [],
   "source": []
  }
 ],
 "metadata": {
  "kernelspec": {
   "display_name": "Python 3 (ipykernel)",
   "language": "python",
   "name": "python3"
  },
  "language_info": {
   "codemirror_mode": {
    "name": "ipython",
    "version": 3
   },
   "file_extension": ".py",
   "mimetype": "text/x-python",
   "name": "python",
   "nbconvert_exporter": "python",
   "pygments_lexer": "ipython3",
   "version": "3.9.12"
  }
 },
 "nbformat": 4,
 "nbformat_minor": 5
}
