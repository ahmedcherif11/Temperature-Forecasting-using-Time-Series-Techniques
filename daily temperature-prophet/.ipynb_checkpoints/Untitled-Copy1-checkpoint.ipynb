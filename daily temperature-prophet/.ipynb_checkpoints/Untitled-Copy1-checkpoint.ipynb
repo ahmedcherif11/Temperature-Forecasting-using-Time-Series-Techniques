{
 "cells": [
  {
   "cell_type": "code",
   "execution_count": null,
   "id": "2e804cd4",
   "metadata": {},
   "outputs": [],
   "source": [
    "!pip install prophet"
   ]
  },
  {
   "cell_type": "code",
   "execution_count": null,
   "id": "faeeeb09",
   "metadata": {},
   "outputs": [],
   "source": [
    "# Analysis Tools\n",
    "import numpy as np\n",
    "import pandas as pd\n",
    "from scipy import stats\n",
    "from scipy.stats import norm\n",
    "\n",
    "# Plotting Tools\n",
    "import matplotlib.pyplot as plt\n",
    "import seaborn as sns\n",
    "import plotly.express as px\n",
    "\n",
    "# Extra Plotting Tools Required for Bar Chart Race\n",
    "import matplotlib.ticker as ticker\n",
    "import matplotlib.animation as animation\n",
    "from IPython.display import HTML\n",
    "\n",
    "\n",
    "import datetime\n",
    "import calplot\n",
    " \n",
    "# Prophet model \n",
    "from prophet import Prophet\n",
    "from prophet.diagnostics import cross_validation\n",
    "from prophet.diagnostics import performance_metrics\n",
    "from prophet.plot import plot_plotly, plot_components_plotly, plot_cross_validation_metric\n",
    "from prophet.serialize import model_to_json, model_from_json\n",
    "\n",
    "\n",
    "\n",
    "\n",
    "# Plot Design Settings\n",
    "sns.set_style(\"darkgrid\", {\"axes.facecolor\": \"#eff2f5\", 'grid.color': '#c0ccd8', 'patch.edgecolor': '#B0B0B0', 'font.sans-serif': 'Verdana'})\n",
    "sns.set_palette('Blues_d')\n",
    "\n",
    "plt.rc('font', size=19)\n",
    "plt.rc('axes', titlesize=25)\n",
    "plt.rc('axes', labelsize=20)\n",
    "plt.rc('xtick', labelsize=17)\n",
    "plt.rc('ytick', labelsize=17)\n",
    "plt.rc('figure', titlesize=24)\n",
    "\n",
    "\n",
    "# Mute warnings\n",
    "import warnings\n",
    "warnings.filterwarnings('ignore')"
   ]
  },
  {
   "cell_type": "code",
   "execution_count": null,
   "id": "c7e2d0ec",
   "metadata": {},
   "outputs": [],
   "source": [
    "data = pd.read_csv('city_temperature.csv')\n",
    "data.shape"
   ]
  },
  {
   "cell_type": "code",
   "execution_count": null,
   "id": "6a4a8134",
   "metadata": {},
   "outputs": [],
   "source": []
  },
  {
   "cell_type": "code",
   "execution_count": null,
   "id": "13f81556",
   "metadata": {},
   "outputs": [],
   "source": [
    "data\n"
   ]
  },
  {
   "cell_type": "code",
   "execution_count": null,
   "id": "cada6637",
   "metadata": {},
   "outputs": [],
   "source": [
    "data.head()"
   ]
  },
  {
   "cell_type": "markdown",
   "id": "f15e177f",
   "metadata": {},
   "source": [
    "features dtypes :"
   ]
  },
  {
   "cell_type": "code",
   "execution_count": null,
   "id": "a08dce2e",
   "metadata": {},
   "outputs": [],
   "source": [
    "data.info()\n"
   ]
  },
  {
   "cell_type": "code",
   "execution_count": null,
   "id": "da6dee0c",
   "metadata": {},
   "outputs": [],
   "source": []
  },
  {
   "cell_type": "code",
   "execution_count": null,
   "id": "85fe4698",
   "metadata": {},
   "outputs": [],
   "source": [
    "data['AvgTemperature'].describe()\n"
   ]
  },
  {
   "cell_type": "markdown",
   "id": "b11e5b0a",
   "metadata": {},
   "source": [
    "Features Unique Values :"
   ]
  },
  {
   "cell_type": "code",
   "execution_count": null,
   "id": "4c3a31c7",
   "metadata": {},
   "outputs": [],
   "source": [
    "# Number of unique values in each variable\n",
    "for var in data:\n",
    "    print(var, ': ', data[var].nunique())"
   ]
  },
  {
   "cell_type": "markdown",
   "id": "c4697416",
   "metadata": {},
   "source": [
    "Missing Values :"
   ]
  },
  {
   "cell_type": "code",
   "execution_count": null,
   "id": "943bd628",
   "metadata": {},
   "outputs": [],
   "source": [
    "for var in data:\n",
    "    print(var, ': ', data[var].isnull().sum())"
   ]
  },
  {
   "cell_type": "code",
   "execution_count": null,
   "id": "46f43e8f",
   "metadata": {},
   "outputs": [],
   "source": [
    "data = data.drop(['State'], axis=1)"
   ]
  },
  {
   "cell_type": "markdown",
   "id": "5a0dcf38",
   "metadata": {},
   "source": [
    "Duplicates :"
   ]
  },
  {
   "cell_type": "code",
   "execution_count": null,
   "id": "3015c83b",
   "metadata": {},
   "outputs": [],
   "source": [
    "print('Number of Duplicates: {}'.format(len(data[data.duplicated()])))\n"
   ]
  },
  {
   "cell_type": "code",
   "execution_count": null,
   "id": "59d9d8d2",
   "metadata": {},
   "outputs": [],
   "source": [
    "data = data.drop_duplicates()\n",
    "\n"
   ]
  },
  {
   "cell_type": "markdown",
   "id": "7e8b7206",
   "metadata": {},
   "source": [
    "Number of 'AvgTemperature' values for each year :"
   ]
  },
  {
   "cell_type": "code",
   "execution_count": null,
   "id": "9a5d4e27",
   "metadata": {
    "scrolled": false
   },
   "outputs": [],
   "source": [
    "data.groupby('Year')['AvgTemperature'].count()\n"
   ]
  },
  {
   "cell_type": "code",
   "execution_count": null,
   "id": "82656764",
   "metadata": {},
   "outputs": [],
   "source": [
    "data = data[data['Year']>1994]\n",
    "data = data[data['Year']<2020]\n"
   ]
  },
  {
   "cell_type": "markdown",
   "id": "5296013c",
   "metadata": {},
   "source": [
    "Range of Days :"
   ]
  },
  {
   "cell_type": "code",
   "execution_count": null,
   "id": "a98790d6",
   "metadata": {},
   "outputs": [],
   "source": [
    "print('Day Range Min to Max: \\n{}'.format(data['Day'].agg([min , max])))\n"
   ]
  },
  {
   "cell_type": "code",
   "execution_count": null,
   "id": "b258b21e",
   "metadata": {},
   "outputs": [],
   "source": [
    "data = data[data['Day']>0]\n",
    "print('1st Day: \\n{}'.format(data['Day'].agg([min]))) "
   ]
  },
  {
   "cell_type": "markdown",
   "id": "c9955444",
   "metadata": {},
   "source": [
    "Dropping all incomplete years :"
   ]
  },
  {
   "cell_type": "code",
   "execution_count": 22,
   "id": "b75e25a1",
   "metadata": {},
   "outputs": [],
   "source": []
  },
  {
   "cell_type": "code",
   "execution_count": null,
   "id": "9233c1db",
   "metadata": {},
   "outputs": [],
   "source": []
  }
 ],
 "metadata": {
  "kernelspec": {
   "display_name": "Python 3 (ipykernel)",
   "language": "python",
   "name": "python3"
  },
  "language_info": {
   "codemirror_mode": {
    "name": "ipython",
    "version": 3
   },
   "file_extension": ".py",
   "mimetype": "text/x-python",
   "name": "python",
   "nbconvert_exporter": "python",
   "pygments_lexer": "ipython3",
   "version": "3.9.12"
  }
 },
 "nbformat": 4,
 "nbformat_minor": 5
}
